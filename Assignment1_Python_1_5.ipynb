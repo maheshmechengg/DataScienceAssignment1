{
 "cells": [
  {
   "cell_type": "markdown",
   "metadata": {},
   "source": [
    "# 2.1 Python-1"
   ]
  },
  {
   "cell_type": "markdown",
   "metadata": {},
   "source": [
    "## 2.1.1 Install Jupyter notebook and run the first program and share the screenshot of the output."
   ]
  },
  {
   "cell_type": "code",
   "execution_count": 10,
   "metadata": {},
   "outputs": [
    {
     "name": "stdout",
     "output_type": "stream",
     "text": [
      "Hello Anaconda\n"
     ]
    }
   ],
   "source": [
    "# First program started in 'Anaconda spyder-Command prompt' (was not aware on Jupiter notebook)\n",
    "print(\"Hello Anaconda\")"
   ]
  },
  {
   "attachments": {
    "image.png": {
     "image/png": "[encoded data removed]"
    }
   },
   "cell_type": "markdown",
   "metadata": {},
   "source": [
    "![image.png](attachment:image.png)"
   ]
  },
  {
   "cell_type": "markdown",
   "metadata": {},
   "source": [
    "## 2.1.2 Write a program which will find all such numbers which are divisible by 7 but are not a multiple of 5, between 2000 and 3200 (both included). The numbers obtained should be printed in a comma-separated sequence on a single line. "
   ]
  },
  {
   "cell_type": "code",
   "execution_count": 99,
   "metadata": {},
   "outputs": [
    {
     "name": "stdout",
     "output_type": "stream",
     "text": [
      "2002,2009,2016,2023,2037,2044,2051,2058,2072,2079,2086,2093,2107,2114,2121,2128,2142,2149,2156,2163,2177,2184,2191,2198,2212,2219,2226,2233,2247,2254,2261,2268,2282,2289,2296,2303,2317,2324,2331,2338,2352,2359,2366,2373,2387,2394,2401,2408,2422,2429,2436,2443,2457,2464,2471,2478,2492,2499,2506,2513,2527,2534,2541,2548,2562,2569,2576,2583,2597,2604,2611,2618,2632,2639,2646,2653,2667,2674,2681,2688,2702,2709,2716,2723,2737,2744,2751,2758,2772,2779,2786,2793,2807,2814,2821,2828,2842,2849,2856,2863,2877,2884,2891,2898,2912,2919,2926,2933,2947,2954,2961,2968,2982,2989,2996,"
     ]
    }
   ],
   "source": [
    "NumbersQ1 = list(range(2000,3000)) #input list with numbers from 2000-3200 \n",
    "#print(NumbersQ1)\n",
    "for i in NumbersQ1:\n",
    "    if i%7==0:                 #NUmber divisible by-7\n",
    "        if i%5!=0:             #and, Number not divisible by-5\n",
    "            print(i,end=\",\")   # Print by comma seperated"
   ]
  },
  {
   "cell_type": "markdown",
   "metadata": {},
   "source": [
    "## 2.1.3 Get first name & surname & print as reverse"
   ]
  },
  {
   "cell_type": "code",
   "execution_count": 13,
   "metadata": {},
   "outputs": [
    {
     "name": "stdout",
     "output_type": "stream",
     "text": [
      "Get name & surname Mahesh Chauhan\n",
      "Printed in reverse order = nahuahC hsehaM\n"
     ]
    }
   ],
   "source": [
    "name = input('Get name & surname ')\n",
    "print(\"Printed in reverse order =\",name[::-1])"
   ]
  },
  {
   "cell_type": "markdown",
   "metadata": {},
   "source": [
    "## 2.1.4 Write a Python program to find the volume of a sphere with diameter 12 cm. \n",
    "   ##     Formula: V=4/3 * π * r 3 "
   ]
  },
  {
   "cell_type": "code",
   "execution_count": 14,
   "metadata": {},
   "outputs": [
    {
     "name": "stdout",
     "output_type": "stream",
     "text": [
      "Volume of sphere =  7238.229473870882\n"
     ]
    }
   ],
   "source": [
    "import math\n",
    "VolSphere = (4/3)*math.pi*12**3 #formulae to calculate volume of sphere\n",
    "print(\"Volume of sphere = \",VolSphere)"
   ]
  },
  {
   "cell_type": "markdown",
   "metadata": {},
   "source": [
    "#  2.2 Python-2"
   ]
  },
  {
   "cell_type": "markdown",
   "metadata": {},
   "source": [
    "## 2.2.1. Write a program which accepts a sequence of comma-separated numbers from console and generate a list. "
   ]
  },
  {
   "cell_type": "code",
   "execution_count": 15,
   "metadata": {},
   "outputs": [
    {
     "name": "stdout",
     "output_type": "stream",
     "text": [
      "Give coma-seperated inputs1,2,3,4,5\n"
     ]
    },
    {
     "data": {
      "text/plain": [
       "['1', '2', '3', '4', '5']"
      ]
     },
     "execution_count": 15,
     "metadata": {},
     "output_type": "execute_result"
    }
   ],
   "source": [
    "get_input = input(\"Give coma-seperated inputs \").split(\",\")\n",
    "list = []\n",
    "for num in get_input:\n",
    "    list.append(num)\n",
    "list"
   ]
  },
  {
   "attachments": {
    "image.png": {
     "image/png": "[encoded data removed]"
    }
   },
   "cell_type": "markdown",
   "metadata": {},
   "source": [
    "## 2.2.2. Create the below pattern using nested for loop in Python. \n",
    "![image.png](attachment:image.png)"
   ]
  },
  {
   "cell_type": "code",
   "execution_count": 16,
   "metadata": {},
   "outputs": [
    {
     "name": "stdout",
     "output_type": "stream",
     "text": [
      "\n",
      "*\n",
      "**\n",
      "***\n",
      "****\n",
      "*****\n",
      "****\n",
      "***\n",
      "**\n",
      "*\n"
     ]
    }
   ],
   "source": [
    "# Nested for loop\n",
    "for i in range(7):\n",
    "    if i<=5:\n",
    "        print('*'*i)\n",
    "    else:\n",
    "        for j in range(4,0,-1):\n",
    "            print('*'*j)"
   ]
  },
  {
   "cell_type": "markdown",
   "metadata": {},
   "source": [
    "## 2.2.3. Write a Python program to reverse a word after accepting the input from the user. Sample Output:\n",
    "### Input word: AcadGild                Output: dilGdacA "
   ]
  },
  {
   "cell_type": "code",
   "execution_count": 18,
   "metadata": {},
   "outputs": [
    {
     "name": "stdout",
     "output_type": "stream",
     "text": [
      "Input word: AcadGild\n",
      "Output word:  dliGdacA\n"
     ]
    }
   ],
   "source": [
    "# Get word from user\n",
    "word = input('Input word: ')\n",
    "print(\"Output word: \",word[::-1])"
   ]
  },
  {
   "attachments": {
    "image.png": {
     "image/png": "[encoded data removed]"
    }
   },
   "cell_type": "markdown",
   "metadata": {},
   "source": [
    "## 2.2.4 Write a Python Program to print the given string in the format specified in the sample output. \n",
    " \n",
    "WE, THE PEOPLE OF INDIA, having solemnly resolved to constitute India into a SOVEREIGN, SOCIALIST, SECULAR, DEMOCRATIC REPUBLIC and to secure to all its citizens\n",
    "\n",
    "![image.png](attachment:image.png)"
   ]
  },
  {
   "cell_type": "code",
   "execution_count": 104,
   "metadata": {},
   "outputs": [
    {
     "name": "stdout",
     "output_type": "stream",
     "text": [
      "WE, THE PEOPLE OF INDIA,\n",
      "      having solemnly resolved to constitute India into a SOVEREIGN, !\n",
      "            SOCIALIST, SECULAR, DEMOCRATIC\n",
      "             REPUBLIC and to secure to all its citizens\n"
     ]
    }
   ],
   "source": [
    "print('WE, THE PEOPLE OF INDIA,')\n",
    "print('      having solemnly resolved to constitute India into a SOVEREIGN, !')\n",
    "print('            SOCIALIST, SECULAR, DEMOCRATIC') \n",
    "print('             REPUBLIC and to secure to all its citizens')"
   ]
  },
  {
   "cell_type": "markdown",
   "metadata": {},
   "source": [
    "#  2.3 Python-3"
   ]
  },
  {
   "cell_type": "markdown",
   "metadata": {},
   "source": [
    "##  2.3.1.1 Write a Python Program to implement your own myreduce() function which works exactly like Python's built-in function reduce() "
   ]
  },
  {
   "cell_type": "code",
   "execution_count": 20,
   "metadata": {},
   "outputs": [],
   "source": [
    "# my reduce function\n",
    "def myreduce(fnc1,inp1):\n",
    "        output =inp1[0]\n",
    "        for i in inp1[1:]:\n",
    "            output = fnc1(output,i)\n",
    "        return output"
   ]
  },
  {
   "cell_type": "code",
   "execution_count": 21,
   "metadata": {},
   "outputs": [
    {
     "data": {
      "text/plain": [
       "10"
      ]
     },
     "execution_count": 21,
     "metadata": {},
     "output_type": "execute_result"
    }
   ],
   "source": [
    "lst =[1,2,3,4]\n",
    "myreduce(lambda a,b: a+b, lst)"
   ]
  },
  {
   "cell_type": "markdown",
   "metadata": {},
   "source": [
    "##  2.3.1.2 Write a Python program to implement your own myfilter() function which works exactly like Python's built-in function filter() "
   ]
  },
  {
   "cell_type": "code",
   "execution_count": 23,
   "metadata": {},
   "outputs": [],
   "source": [
    "# my filter function\n",
    "def myfilter(fnc2,inp2):\n",
    "        Filtout =[]\n",
    "        for j in inp2:\n",
    "            if fnc2(j):\n",
    "                Filtout.append(j)\n",
    "        return Filtout"
   ]
  },
  {
   "cell_type": "code",
   "execution_count": 24,
   "metadata": {},
   "outputs": [
    {
     "data": {
      "text/plain": [
       "[2, 4, 6]"
      ]
     },
     "execution_count": 24,
     "metadata": {},
     "output_type": "execute_result"
    }
   ],
   "source": [
    "Filt =[1,2,3,4,5,6,7]\n",
    "myfilter(lambda a: a%2==0, Filt)"
   ]
  },
  {
   "cell_type": "markdown",
   "metadata": {},
   "source": [
    "## 2.3.2 Implement List comprehensions to produce the following lists. \n",
    "   ### ['A', 'C', 'A', 'D', 'G', 'I', ’L’, ‘ D’] \n",
    "   ### ['x', 'xx', 'xxx', 'xxxx', 'y', 'yy', 'yyy', 'yyyy', 'z', 'zz', 'zzz', 'zzzz'] \n",
    "   ### ['x', 'y', 'z', 'xx', 'yy', 'zz', 'xxx', 'yyy', 'zzz', 'xxxx', 'yyyy', 'zzzz'] \n",
    "   ### [[2], [3], [4], [3], [4], [5], [4], [5], [6]]\n",
    "   ### [[2, 3, 4, 5], [3, 4, 5, 6], [4, 5, 6, 7], [5, 6, 7, 8]] \n",
    "   ### [(1, 1), (2, 1), (3, 1), (1, 2), (2, 2), (3, 2), (1, 3), (2, 3), (3, 3)] \n"
   ]
  },
  {
   "cell_type": "code",
   "execution_count": 1,
   "metadata": {},
   "outputs": [
    {
     "data": {
      "text/plain": [
       "['A', 'C', 'A', 'D', 'G', 'I', 'L', 'D']"
      ]
     },
     "execution_count": 1,
     "metadata": {},
     "output_type": "execute_result"
    }
   ],
   "source": [
    "nameFrw = ['A','C','A','D','G','I','L','D']\n",
    "#nameFrw.append() = [nameFrw.upper() for i in nameFrw]\n",
    "name = []\n",
    "for i in nameFrw:\n",
    "    i = i.upper()\n",
    "    name.append(i)\n",
    "name"
   ]
  },
  {
   "cell_type": "code",
   "execution_count": 210,
   "metadata": {},
   "outputs": [
    {
     "data": {
      "text/plain": [
       "['x', 'xx', 'xxx', 'xxxx', 'y', 'yy', 'yyy', 'yyyy', 'z', 'zz', 'zzz', 'zzzz']"
      ]
     },
     "execution_count": 210,
     "metadata": {},
     "output_type": "execute_result"
    }
   ],
   "source": [
    "nLst = ['x','y','z']\n",
    "newLst=[]\n",
    "for i in nLst:\n",
    "    for j in range(1,5):\n",
    "        reslt = i*j\n",
    "        newLst.append(reslt)\n",
    "newLst"
   ]
  },
  {
   "cell_type": "code",
   "execution_count": 211,
   "metadata": {},
   "outputs": [
    {
     "data": {
      "text/plain": [
       "['x', 'y', 'z', 'xx', 'yy', 'zz', 'xxx', 'yyy', 'zzz', 'xxxx', 'yyyy', 'zzzz']"
      ]
     },
     "execution_count": 211,
     "metadata": {},
     "output_type": "execute_result"
    }
   ],
   "source": [
    "nLst = ['x','y','z']\n",
    "neewLst=[]\n",
    "for i in range(1,5):\n",
    "    for j in nLst:\n",
    "        reslt = i*j\n",
    "        neewLst.append(reslt)\n",
    "neewLst"
   ]
  },
  {
   "cell_type": "code",
   "execution_count": 252,
   "metadata": {},
   "outputs": [
    {
     "data": {
      "text/plain": [
       "[[2], [3], [5], [6]]"
      ]
     },
     "execution_count": 252,
     "metadata": {},
     "output_type": "execute_result"
    }
   ],
   "source": [
    "numLst = [1,2,3,4,5,6]\n",
    "reqLst=[]\n",
    "n=1\n",
    "while n < len(numLst):\n",
    "    for n in range(n+1,n+3):\n",
    "        rslt = [n]\n",
    "        reqLst.append(rslt)\n",
    "        n+=1\n",
    "reqLst"
   ]
  },
  {
   "cell_type": "code",
   "execution_count": 255,
   "metadata": {},
   "outputs": [
    {
     "data": {
      "text/plain": [
       "[[2], [3], [4], [3], [4], [5], [4], [5], [6]]"
      ]
     },
     "execution_count": 255,
     "metadata": {},
     "output_type": "execute_result"
    }
   ],
   "source": [
    "numLst = [1,2,3,4,5,6]\n",
    "reqLst=[]\n",
    "for n in numLst:\n",
    "    if n==2:\n",
    "        while n<=4:\n",
    "            rslt = [n]\n",
    "            reqLst.append(rslt)\n",
    "            n+=1\n",
    "    elif n==3:\n",
    "        while n<=5:\n",
    "            rslt = [n]\n",
    "            reqLst.append(rslt)\n",
    "            n+=1\n",
    "    elif n==4:\n",
    "        while n<=6:\n",
    "            rslt = [n]\n",
    "            reqLst.append(rslt)\n",
    "            n+=1\n",
    "reqLst"
   ]
  },
  {
   "cell_type": "code",
   "execution_count": 303,
   "metadata": {},
   "outputs": [
    {
     "data": {
      "text/plain": [
       "[[2, 3, 4, 5], [3, 4, 5, 6], [4, 5, 6, 7], [5, 6, 7, 8]]"
      ]
     },
     "execution_count": 303,
     "metadata": {},
     "output_type": "execute_result"
    }
   ],
   "source": [
    "numLst = [1,2,3,4,5,6,7,8]\n",
    "reqLstF=[]\n",
    "\n",
    "for n in numLst:\n",
    "    if n==2:\n",
    "        reqLst=[]\n",
    "        while n<=5:\n",
    "            rslt = n\n",
    "            reqLst.append(rslt)\n",
    "            n+=1\n",
    "        reqLstF.append(reqLst)\n",
    "    elif n==3:\n",
    "        reqLst=[]\n",
    "        while n<=6:\n",
    "            rslt = n\n",
    "            reqLst.append(rslt)\n",
    "            n+=1\n",
    "        reqLstF.append(reqLst)\n",
    "    elif n==4:\n",
    "        reqLst=[]\n",
    "        while n<=7:\n",
    "            rslt = n\n",
    "            reqLst.append(rslt)\n",
    "            n+=1\n",
    "        reqLstF.append(reqLst)\n",
    "    elif n==5:\n",
    "        reqLst=[]\n",
    "        while n<=8:\n",
    "            rslt = n\n",
    "            reqLst.append(rslt)\n",
    "            n+=1\n",
    "        reqLstF.append(reqLst)\n",
    "reqLstF"
   ]
  },
  {
   "cell_type": "code",
   "execution_count": 306,
   "metadata": {},
   "outputs": [
    {
     "data": {
      "text/plain": [
       "[(1, 1), (2, 1), (3, 1), (1, 2), (2, 2), (3, 2), (1, 3), (2, 3), (3, 3)]"
      ]
     },
     "execution_count": 306,
     "metadata": {},
     "output_type": "execute_result"
    }
   ],
   "source": [
    "numLst = [1,2,3]\n",
    "reqLstFF=[]\n",
    "for num in numLst:\n",
    "    for n in range(1,4):\n",
    "        rslt= (n,num)\n",
    "        reqLstFF.append(rslt)\n",
    "reqLstFF    "
   ]
  },
  {
   "cell_type": "markdown",
   "metadata": {},
   "source": [
    "## 2.3.3 Implement a function longestWord() that takes a list of words and returns the longest one. "
   ]
  },
  {
   "cell_type": "code",
   "execution_count": 72,
   "metadata": {},
   "outputs": [],
   "source": [
    "# Function to find longest word in list\n",
    "def longestWord(str):\n",
    "    wrdln=0\n",
    "    ltr=[]\n",
    "    for r in str:\n",
    "        if len(r)>wrdln:\n",
    "            wrdln=len(r)\n",
    "            ltr = r\n",
    "    print(ltr)"
   ]
  },
  {
   "cell_type": "code",
   "execution_count": 73,
   "metadata": {},
   "outputs": [
    {
     "name": "stdout",
     "output_type": "stream",
     "text": [
      "DataScience\n"
     ]
    }
   ],
   "source": [
    "str1=['Hello', 'to', 'the', 'DataScience','master', 'program']\n",
    "longestWord(str1)"
   ]
  },
  {
   "cell_type": "code",
   "execution_count": 33,
   "metadata": {},
   "outputs": [
    {
     "data": {
      "text/plain": [
       "<map at 0x1c11a48ab38>"
      ]
     },
     "execution_count": 33,
     "metadata": {},
     "output_type": "execute_result"
    }
   ],
   "source": [
    "map(lambda a,b: a+b, str)"
   ]
  },
  {
   "cell_type": "markdown",
   "metadata": {},
   "source": [
    "# 2.4 Python-4"
   ]
  },
  {
   "cell_type": "markdown",
   "metadata": {},
   "source": [
    "## 2.4.1.1 Write a Python Program(with class concepts) to find the area of the triangle using the below formula. \n",
    " \n",
    "### area = (s*(s-a)*(s-b)*(s-c)) ** 0.5, where s=(a+b+c)/2 or perimeter/2.\n",
    " \n",
    "### Function to take the length of the sides of triangle from user should be defined in the parent class and function to calculate the area should be defined in subclass. "
   ]
  },
  {
   "cell_type": "code",
   "execution_count": 110,
   "metadata": {},
   "outputs": [],
   "source": [
    "class Triangle:\n",
    "    def __init__(self, side_a, side_b,side_c):\n",
    "        self.side_a=side_a\n",
    "        self.side_b=side_b\n",
    "        self.side_c=side_c\n",
    "    def __str__(self):\n",
    "        return \"Sides of tringle  %d,  %d,  %d.\"\\\n",
    "    % (self.side_a, self.side_b, self.side_c)"
   ]
  },
  {
   "cell_type": "code",
   "execution_count": 111,
   "metadata": {},
   "outputs": [
    {
     "name": "stdout",
     "output_type": "stream",
     "text": [
      "Sides of tringle  4,  6,  8.\n"
     ]
    }
   ],
   "source": [
    "Tr1 =Triangle (4,6,8)\n",
    "print(Tr1)"
   ]
  },
  {
   "cell_type": "code",
   "execution_count": 124,
   "metadata": {
    "scrolled": true
   },
   "outputs": [],
   "source": [
    "class Area(Triangle):\n",
    "    def Calc_Area(self):\n",
    "        s = (self.side_a+self.side_b+self.side_c)/2\n",
    "        return  \"Area of triagle is %f.\"\\\n",
    "    % (s*(s-self.side_a)*(s-self.side_b)*(s-self.side_c))**0.5"
   ]
  },
  {
   "cell_type": "code",
   "execution_count": 127,
   "metadata": {},
   "outputs": [
    {
     "name": "stdout",
     "output_type": "stream",
     "text": [
      "Sides of tringle  4,  6,  8.\n",
      "Area of triagle is 11.618950.\n"
     ]
    }
   ],
   "source": [
    "Sides = Triangle(4,6,8)\n",
    "print(Sides)\n",
    "Area1= Area.Calc_Area(Sides)\n",
    "print(Area1)"
   ]
  },
  {
   "cell_type": "markdown",
   "metadata": {},
   "source": [
    "## 2.4.1.2 Write a function filter_long_words() that takes a list of words and an integer n and returns the list of words that are longer than n. \n",
    " "
   ]
  },
  {
   "cell_type": "code",
   "execution_count": 145,
   "metadata": {},
   "outputs": [],
   "source": [
    "# Function to find list of long words in list than given integer n\n",
    "def filter_long_words(str, lnstr):\n",
    "    longwords = []\n",
    "    wrdln=int(lnstr)\n",
    "    for ltr in str:\n",
    "        if len(ltr)>wrdln:\n",
    "            longwords.append(ltr)#wrdln=len(ltr)\n",
    "    print(longwords)\n"
   ]
  },
  {
   "cell_type": "code",
   "execution_count": 158,
   "metadata": {},
   "outputs": [
    {
     "name": "stdout",
     "output_type": "stream",
     "text": [
      "['James Bond', 'a MI agent']\n"
     ]
    }
   ],
   "source": [
    "lst= ['my','name','is','Bond','James Bond','a MI agent']\n",
    "filter_long_words(lst,5)"
   ]
  },
  {
   "cell_type": "markdown",
   "metadata": {},
   "source": [
    "## 2.4.2.1 Write a Python program using function concept that maps list of words into a list of integers representing the lengths of the corresponding words. \n",
    " \n",
    "### Hint: If a list [ ab,cde,erty] is passed on to the python function output should come as [2,3,4]  Here 2,3 and 4 are the lengths of the words in the list. "
   ]
  },
  {
   "cell_type": "code",
   "execution_count": 155,
   "metadata": {},
   "outputs": [],
   "source": [
    "# Function to get length of words in list\n",
    "def length_words(str):\n",
    "    word_ln=[]\n",
    "    for ltr in str:\n",
    "        word_ln.append(len(ltr))\n",
    "    print(word_ln)"
   ]
  },
  {
   "cell_type": "code",
   "execution_count": 159,
   "metadata": {},
   "outputs": [
    {
     "name": "stdout",
     "output_type": "stream",
     "text": [
      "[2, 4, 2, 4, 10, 10]\n"
     ]
    }
   ],
   "source": [
    "lst= ['my','name','is','Bond','James Bond','a MI agent']\n",
    "length_words(lst)"
   ]
  },
  {
   "cell_type": "markdown",
   "metadata": {},
   "source": [
    "## 2.4.2.2 Write a Python function which takes a character (i.e. a string of length 1) and returns True if it is a vowel, False otherwise. "
   ]
  },
  {
   "cell_type": "code",
   "execution_count": 66,
   "metadata": {},
   "outputs": [],
   "source": [
    "def isvowel(letr):\n",
    "    vowels = 'aAeEIiOoUu'\n",
    "    if letr in vowels:    #'Input character is a vowel'\n",
    "        return 'True'  \n",
    "    else:                #'Input character is not a vowel'\n",
    "        return 'False'\n",
    "        "
   ]
  },
  {
   "cell_type": "code",
   "execution_count": 69,
   "metadata": {},
   "outputs": [
    {
     "data": {
      "text/plain": [
       "'True'"
      ]
     },
     "execution_count": 69,
     "metadata": {},
     "output_type": "execute_result"
    }
   ],
   "source": [
    "isvowel('a')"
   ]
  },
  {
   "cell_type": "markdown",
   "metadata": {},
   "source": [
    "# 2.5 Python-5"
   ]
  },
  {
   "cell_type": "markdown",
   "metadata": {},
   "source": [
    "## 2.5.1 Write a function to compute 5/0 and use try/except to catch the exceptions."
   ]
  },
  {
   "cell_type": "code",
   "execution_count": 1,
   "metadata": {},
   "outputs": [],
   "source": [
    "def remndr(a,b):\n",
    "    try:\n",
    "        return a/b\n",
    "    except:\n",
    "        print('Denominator must be greater than zero')"
   ]
  },
  {
   "cell_type": "code",
   "execution_count": 5,
   "metadata": {},
   "outputs": [
    {
     "name": "stdout",
     "output_type": "stream",
     "text": [
      "Denominator must be greater than zero\n"
     ]
    }
   ],
   "source": [
    "remndr(5,0)"
   ]
  },
  {
   "cell_type": "markdown",
   "metadata": {},
   "source": [
    "## 2.5.2  Implement a Python program to generate all sentences where subject is in [\"Americans\", \"Indians\"] and verb is in [\"Play\", \"watch\"] and the object is in [\"Baseball\",\"cricket\"].          \n",
    "### Hint: Subject,Verb and Object should be declared in the program as shown below. \n",
    " "
   ]
  },
  {
   "cell_type": "code",
   "execution_count": 26,
   "metadata": {},
   "outputs": [],
   "source": [
    "subjects=[\"Americans \",\"Indians\"] \n",
    "verbs=[\"play\",\"watch\"] \n",
    "objects=[\"Baseball\",\"Cricket\"]"
   ]
  },
  {
   "cell_type": "code",
   "execution_count": 28,
   "metadata": {},
   "outputs": [
    {
     "name": "stdout",
     "output_type": "stream",
     "text": [
      "Americans  play Baseball\n",
      "Americans  play Cricket\n",
      "Americans  watch Baseball\n",
      "Americans  watch Cricket\n",
      "Indians play Baseball\n",
      "Indians play Cricket\n",
      "Indians watch Baseball\n",
      "Indians watch Cricket\n"
     ]
    }
   ],
   "source": [
    "for s in subjects:\n",
    "    for v in verbs:\n",
    "        for o in objects:\n",
    "            print(s,v,o)"
   ]
  },
  {
   "cell_type": "markdown",
   "metadata": {},
   "source": [
    "# Thank you!!!"
   ]
  }
 ],
 "metadata": {
  "kernelspec": {
   "display_name": "Python 3",
   "language": "python",
   "name": "python3"
  },
  "language_info": {
   "codemirror_mode": {
    "name": "ipython",
    "version": 3
   },
   "file_extension": ".py",
   "mimetype": "text/x-python",
   "name": "python",
   "nbconvert_exporter": "python",
   "pygments_lexer": "ipython3",
   "version": "3.7.3"
  }
 },
 "nbformat": 4,
 "nbformat_minor": 2
}
